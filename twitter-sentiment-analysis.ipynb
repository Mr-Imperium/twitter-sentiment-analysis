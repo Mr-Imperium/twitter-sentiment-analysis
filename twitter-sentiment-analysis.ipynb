{
 "cells": [
  {
   "cell_type": "code",
   "execution_count": 1,
   "id": "a21f011f",
   "metadata": {
    "_cell_guid": "b1076dfc-b9ad-4769-8c92-a6c4dae69d19",
    "_uuid": "8f2839f25d086af736a60e9eeb907d3b93b6e0e5",
    "execution": {
     "iopub.execute_input": "2024-11-08T15:32:22.682165Z",
     "iopub.status.busy": "2024-11-08T15:32:22.681588Z",
     "iopub.status.idle": "2024-11-08T15:32:40.723390Z",
     "shell.execute_reply": "2024-11-08T15:32:40.722153Z"
    },
    "papermill": {
     "duration": 18.049232,
     "end_time": "2024-11-08T15:32:40.726208",
     "exception": false,
     "start_time": "2024-11-08T15:32:22.676976",
     "status": "completed"
    },
    "tags": []
   },
   "outputs": [
    {
     "name": "stdout",
     "output_type": "stream",
     "text": [
      "Collecting tweepy\n",
      "  Downloading tweepy-4.14.0-py3-none-any.whl.metadata (3.8 kB)\n",
      "Requirement already satisfied: oauthlib<4,>=3.2.0 in /opt/conda/lib/python3.10/site-packages (from tweepy) (3.2.2)\n",
      "Requirement already satisfied: requests<3,>=2.27.0 in /opt/conda/lib/python3.10/site-packages (from tweepy) (2.32.3)\n",
      "Collecting requests-oauthlib<2,>=1.2.0 (from tweepy)\n",
      "  Downloading requests_oauthlib-1.3.1-py2.py3-none-any.whl.metadata (10 kB)\n",
      "Requirement already satisfied: charset-normalizer<4,>=2 in /opt/conda/lib/python3.10/site-packages (from requests<3,>=2.27.0->tweepy) (3.3.2)\n",
      "Requirement already satisfied: idna<4,>=2.5 in /opt/conda/lib/python3.10/site-packages (from requests<3,>=2.27.0->tweepy) (3.7)\n",
      "Requirement already satisfied: urllib3<3,>=1.21.1 in /opt/conda/lib/python3.10/site-packages (from requests<3,>=2.27.0->tweepy) (1.26.18)\n",
      "Requirement already satisfied: certifi>=2017.4.17 in /opt/conda/lib/python3.10/site-packages (from requests<3,>=2.27.0->tweepy) (2024.8.30)\n",
      "Downloading tweepy-4.14.0-py3-none-any.whl (98 kB)\n",
      "\u001b[2K   \u001b[90m━━━━━━━━━━━━━━━━━━━━━━━━━━━━━━━━━━━━━━━━\u001b[0m \u001b[32m98.5/98.5 kB\u001b[0m \u001b[31m2.2 MB/s\u001b[0m eta \u001b[36m0:00:00\u001b[0m\n",
      "\u001b[?25hDownloading requests_oauthlib-1.3.1-py2.py3-none-any.whl (23 kB)\n",
      "Installing collected packages: requests-oauthlib, tweepy\n",
      "  Attempting uninstall: requests-oauthlib\n",
      "    Found existing installation: requests-oauthlib 2.0.0\n",
      "    Uninstalling requests-oauthlib-2.0.0:\n",
      "      Successfully uninstalled requests-oauthlib-2.0.0\n",
      "Successfully installed requests-oauthlib-1.3.1 tweepy-4.14.0\n",
      "Error: 403 Forbidden\n",
      "453 - You currently have access to a subset of Twitter API v2 endpoints and limited v1.1 endpoints (e.g. media post, oauth) only. If you need access to this endpoint, you may need a different access level. You can learn more here: https://developer.twitter.com/en/portal/product\n",
      "It seems you don't have access to the required Twitter API endpoints. Please upgrade your Twitter Developer account to access the full API.\n"
     ]
    }
   ],
   "source": [
    "import sys\n",
    "import os\n",
    "import subprocess\n",
    "\n",
    "# Check if tweepy is installed, if not, install it\n",
    "try:\n",
    "    import tweepy\n",
    "except ImportError:\n",
    "    subprocess.check_call([sys.executable, \"-m\", \"pip\", \"install\", \"tweepy\"])\n",
    "    import tweepy\n",
    "import pandas as pd\n",
    "from textblob import TextBlob\n",
    "\n",
    "# Replace these with your own Twitter API credentials\n",
    "consumer_key = 'CoJB0SL0vWRw8FQNVhZgTbct1'\n",
    "consumer_secret = 'f4i5eTqAeQpE3zokein7aJKB7s4c3j4igU1CL8jsg2hIioYOtV'\n",
    "access_token = '1829390389427724288-PQt5bOMMr3aU3JJZ9TGcXphy37veuL'\n",
    "access_token_secret = '1thSu0tdy6ckuADOhZmee66NX0P3HQMJSRrFWT38eEdcW'\n",
    "\n",
    "# Authenticate with Twitter API\n",
    "auth = tweepy.OAuthHandler(consumer_key, consumer_secret)\n",
    "auth.set_access_token(access_token, access_token_secret)\n",
    "api = tweepy.API(auth)\n",
    "\n",
    "# Keywords to search for\n",
    "keywords = ['trump', 'election']\n",
    "\n",
    "# List to store the tweets and their sentiment labels\n",
    "tweets = []\n",
    "\n",
    "try:\n",
    "    # Iterate through the search results\n",
    "    for keyword in keywords:\n",
    "        for tweet in tweepy.Cursor(api.search_tweets, q=keyword, lang='en').items(100):\n",
    "            # Perform sentiment analysis using TextBlob\n",
    "            blob = TextBlob(tweet.text)\n",
    "            sentiment = 'Positive' if blob.sentiment.polarity >= 0 else 'Negative'\n",
    "            \n",
    "            # Add the tweet and its sentiment label to the list\n",
    "            tweets.append((tweet.text, sentiment))\n",
    "\n",
    "    # Create a DataFrame from the list of tweets and their sentiment labels\n",
    "    df = pd.DataFrame(tweets, columns=['Tweet', 'Sentiment'])\n",
    "\n",
    "    # Save the DataFrame to a CSV file\n",
    "    df.to_csv('twitter_sentiment_analysis.csv', index=False)\n",
    "\n",
    "    print('Tweets saved to twitter_sentiment_analysis.csv')\n",
    "\n",
    "except tweepy.errors.TweepyException as e:\n",
    "    print(f\"Error: {e}\")\n",
    "    print(\"It seems you don't have access to the required Twitter API endpoints. Please upgrade your Twitter Developer account to access the full API.\")"
   ]
  }
 ],
 "metadata": {
  "kaggle": {
   "accelerator": "none",
   "dataSources": [],
   "isGpuEnabled": false,
   "isInternetEnabled": true,
   "language": "python",
   "sourceType": "notebook"
  },
  "kernelspec": {
   "display_name": "Python 3",
   "language": "python",
   "name": "python3"
  },
  "language_info": {
   "codemirror_mode": {
    "name": "ipython",
    "version": 3
   },
   "file_extension": ".py",
   "mimetype": "text/x-python",
   "name": "python",
   "nbconvert_exporter": "python",
   "pygments_lexer": "ipython3",
   "version": "3.10.14"
  },
  "papermill": {
   "default_parameters": {},
   "duration": 21.834788,
   "end_time": "2024-11-08T15:32:41.451074",
   "environment_variables": {},
   "exception": null,
   "input_path": "__notebook__.ipynb",
   "output_path": "__notebook__.ipynb",
   "parameters": {},
   "start_time": "2024-11-08T15:32:19.616286",
   "version": "2.6.0"
  }
 },
 "nbformat": 4,
 "nbformat_minor": 5
}
